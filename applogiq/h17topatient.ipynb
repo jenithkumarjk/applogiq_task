{
 "cells": [
  {
   "cell_type": "code",
   "execution_count": 4,
   "id": "84eb0b43-519a-453c-ad2c-5938f3c2da3e",
   "metadata": {},
   "outputs": [],
   "source": [
    "import hl7\n",
    "from datetime import datetime\n",
    "from app.models import ErrorCharges,Patient\n",
    "from asgiref.sync import sync_to_async\n",
    "\n",
    "file_paths = ['app/HL7/charges_0.hl7', 'app/HL7/charges_1.hl7', 'app/HL7/charges_2.hl7', 'app/HL7/charges_3.hl7', 'app/HL7/charges_4.hl7']\n",
    "def parse_hl7(file_path):\n",
    "    with open(file_path, 'br') as file:\n",
    "        data = file.read()\n",
    "    return hl7.parse(data)\n",
    "\n",
    "parsed_messages = [parse_hl7(file_path) for file_path in file_paths]\n",
    "\n",
    "patient_data = []\n",
    "def extract_patient_info(message):\n",
    "    segments = [segment for segment in message]\n",
    "    for segment1 in segments:\n",
    "        patient_info = {}\n",
    "        segment = [segment2 for segment2 in segment1]\n",
    "        if segment[0] == ['\\nPID']:\n",
    "            fullnamelist = str(segment[5][0]).split('^^')\n",
    "            namelist = fullnamelist[0].split('^')\n",
    "            patient_info['full_name'] = fullnamelist[0].replace('^',' ')  if fullnamelist[0].replace('^',' ') != '' else None\n",
    "            patient_info['first_name'] = namelist[0] if namelist[0] != '' else None\n",
    "            patient_info['last_name'] = ' '.join(namelist[1:]) if ' '.join(namelist[1:]) != '' else None\n",
    "            patient_info['gender'] = 'Male' if segment[8][0] == 'M' else 'Female' if segment[8][0] == 'F' else None\n",
    "            patient_info['phone'] = segment[13][0]\n",
    "            patient_info['address'] = str(segment[11][0]).replace('^^','-').replace('^',', ')\n",
    "            patient_info['date_of_birth'] = segment[7][0][0:4]+'-'+segment[7][0][4:6]+'-'+segment[7][0][6:8]  if segment[7][0] != '' else None\n",
    "            patient_info['mrn'] = list(segment[3][0])[0][0] if list(segment[3][0])[0] != [''] else None\n",
    "            patient_data.append(patient_info)\n",
    "    return patient_info\n",
    "\n",
    "\n",
    "for message in parsed_messages:\n",
    "    extract_patient_info(message)\n",
    "    \n",
    "async def store_patient_data_async(patient_data):\n",
    "    listvalue = await sync_to_async(list)(Patient.objects.all())\n",
    "    if len(listvalue) == 0:\n",
    "        for data in patient_data:\n",
    "            error_charges_id = None\n",
    "            if data['full_name'] is None:\n",
    "                error_charges_id = 1\n",
    "            if data['date_of_birth'] is None:\n",
    "                error_charges_id = 2\n",
    "            if data['mrn'] is None:\n",
    "                error_charges_id = 3\n",
    "            if error_charges_id:\n",
    "                data[\"error_charges_id\"] = error_charges_id\n",
    "            await sync_to_async(Patient.objects.create)(**data)\n",
    "\n",
    "await store_patient_data_async(patient_data)"
   ]
  },
  {
   "cell_type": "code",
   "execution_count": null,
   "id": "2fdbe224-e53f-461f-a5a8-c3ed3193610f",
   "metadata": {},
   "outputs": [],
   "source": []
  }
 ],
 "metadata": {
  "kernelspec": {
   "display_name": "Django Shell-Plus",
   "language": "python",
   "name": "django_extensions"
  },
  "language_info": {
   "codemirror_mode": {
    "name": "ipython",
    "version": 3
   },
   "file_extension": ".py",
   "mimetype": "text/x-python",
   "name": "python",
   "nbconvert_exporter": "python",
   "pygments_lexer": "ipython3",
   "version": "3.11.9"
  }
 },
 "nbformat": 4,
 "nbformat_minor": 5
}
