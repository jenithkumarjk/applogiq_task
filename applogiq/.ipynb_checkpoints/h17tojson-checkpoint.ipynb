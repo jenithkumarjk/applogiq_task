{
 "cells": [
  {
   "cell_type": "code",
   "execution_count": 1,
   "id": "84eb0b43-519a-453c-ad2c-5938f3c2da3e",
   "metadata": {},
   "outputs": [
    {
     "name": "stdout",
     "output_type": "stream",
     "text": [
      "[{'full_name': 'Smith Jane B', 'first_name': 'Smith', 'last_name': 'Jane B', 'gender': 'Female', 'phone': '(555)555-7777', 'address': '456 Oak St-Gotham, NY, 10002, USA', 'date_of_birth': '1992-03-22', 'mrn': '789101'}, {'full_name': None, 'first_name': None, 'last_name': None, 'gender': 'Male', 'phone': '(555)555-8888', 'address': '789 Pine St-Metropolis, NY, 10003, USA', 'date_of_birth': '1985-01-10', 'mrn': '112233'}, {'full_name': 'Brown Olivia E', 'first_name': 'Brown', 'last_name': 'Olivia E', 'gender': 'Female', 'phone': '(555)555-9999', 'address': '321 Cedar St-Gotham, NY, 10004, USA', 'date_of_birth': '1995-10-05', 'mrn': '334455'}, {'full_name': 'White Emily F', 'first_name': 'White', 'last_name': 'Emily F', 'gender': 'Female', 'phone': '(555)555-1111', 'address': '654 Spruce St-Star City, CA, 90001, USA', 'date_of_birth': '2000-05-15', 'mrn': '556677'}, {'full_name': 'Wilson James G', 'first_name': 'Wilson', 'last_name': 'James G', 'gender': 'Male', 'phone': '(555)555-2222', 'address': '987 Birch St-Star City, CA, 90002, USA', 'date_of_birth': '1978-07-08', 'mrn': '778899'}, {'full_name': 'Garcia Sophia H', 'first_name': 'Garcia', 'last_name': 'Sophia H', 'gender': 'Female', 'phone': '(555)555-3333', 'address': '234 Willow St-Central City, IL, 60601, USA', 'date_of_birth': '1999-02-14', 'mrn': '990011'}, {'full_name': 'Martinez Daniel I', 'first_name': 'Martinez', 'last_name': 'Daniel I', 'gender': 'Male', 'phone': '(555)555-4444', 'address': '567 Aspen St-Coast City, CA, 90210, USA', 'date_of_birth': '1973-05-18', 'mrn': '001122'}, {'full_name': 'Lee Chloe J', 'first_name': 'Lee', 'last_name': 'Chloe J', 'gender': 'Female', 'phone': '(555)555-5555', 'address': '890 Maple St-Keystone City, PA, 15001, USA', 'date_of_birth': '2001-03-23', 'mrn': '223344'}, {'full_name': 'Kim Ethan K', 'first_name': 'Kim', 'last_name': 'Ethan K', 'gender': 'Male', 'phone': '(555)555-6666', 'address': '345 Walnut St-Star City, CA, 90001, USA', 'date_of_birth': '1982-06-12', 'mrn': '334455'}, {'full_name': 'Rodriguez Isabella L', 'first_name': 'Rodriguez', 'last_name': 'Isabella L', 'gender': 'Female', 'phone': '(555)555-7777', 'address': '678 Birch St-National City, TX, 75001, USA', 'date_of_birth': '1996-10-25', 'mrn': '445566'}, {'full_name': 'Johnson Lucas M', 'first_name': 'Johnson', 'last_name': 'Lucas M', 'gender': 'Male', 'phone': '(555)555-8888', 'address': '123 Spruce St-Gotham, NY, 10005, USA', 'date_of_birth': '1989-01-02', 'mrn': '556677'}, {'full_name': 'Thompson Mia N', 'first_name': 'Thompson', 'last_name': 'Mia N', 'gender': 'Female', 'phone': '(555)555-9999', 'address': '456 Cedar St-Metropolis, NY, 10006, USA', 'date_of_birth': '2002-02-14', 'mrn': '667788'}, {'full_name': 'Doe John A', 'first_name': 'Doe', 'last_name': 'John A', 'gender': 'Male', 'phone': '(555)555-1234', 'address': '789 Elm St-Springfield, IL, 62701, USA', 'date_of_birth': '1987-04-15', 'mrn': '123456'}, {'full_name': 'Smith Alice B', 'first_name': 'Smith', 'last_name': 'Alice B', 'gender': 'Female', 'phone': '(555)555-7777', 'address': '456 Oak St-Gotham, NY, 10002, USA', 'date_of_birth': None, 'mrn': '234567'}, {'full_name': 'Brown David E', 'first_name': 'Brown', 'last_name': 'David E', 'gender': 'Male', 'phone': '(555)555-9999', 'address': '321 Cedar St-Gotham, NY, 10004, USA', 'date_of_birth': '1995-03-08', 'mrn': '345678'}, {'full_name': 'Wilson Sarah M', 'first_name': 'Wilson', 'last_name': 'Sarah M', 'gender': 'Female', 'phone': '(555)555-1111', 'address': '567 Pine St-Gotham, NY, 10005, USA', 'date_of_birth': '1976-02-28', 'mrn': '456789'}, {'full_name': 'Garcia Miguel J', 'first_name': 'Garcia', 'last_name': 'Miguel J', 'gender': 'Male', 'phone': '(555)555-3333', 'address': '678 Maple St-Star City, CA, 90001, USA', 'date_of_birth': '1982-10-10', 'mrn': '567890'}, {'full_name': 'Fernandez Elena L', 'first_name': 'Fernandez', 'last_name': 'Elena L', 'gender': 'Female', 'phone': '(555)555-5555', 'address': '789 Willow St-Central City, IL, 60601, USA', 'date_of_birth': '1998-02-18', 'mrn': '678901'}, {'full_name': 'Lee Andrew K', 'first_name': 'Lee', 'last_name': 'Andrew K', 'gender': 'Male', 'phone': '(555)555-7777', 'address': '890 Aspen St-Coast City, CA, 90210, USA', 'date_of_birth': '1991-12-05', 'mrn': '789012'}, {'full_name': 'Robinson Sophia N', 'first_name': 'Robinson', 'last_name': 'Sophia N', 'gender': 'Female', 'phone': '(555)555-9999', 'address': '901 Cedar St-Metropolis, NY, 10006, USA', 'date_of_birth': '2000-03-30', 'mrn': '890123'}, {'full_name': 'Doe John A', 'first_name': 'Doe', 'last_name': 'John A', 'gender': 'Male', 'phone': '(555)555-1234', 'address': '789 Elm St-Springfield, IL, 62701, USA', 'date_of_birth': '1987-04-15', 'mrn': '123456'}, {'full_name': None, 'first_name': None, 'last_name': None, 'gender': 'Female', 'phone': '(555)555-7777', 'address': '456 Oak St-Gotham, NY, 10002, USA', 'date_of_birth': '1990-10-20', 'mrn': '234567'}, {'full_name': 'Brown David E', 'first_name': 'Brown', 'last_name': 'David E', 'gender': 'Male', 'phone': '(555)555-9999', 'address': '321 Cedar St-Gotham, NY, 10004, USA', 'date_of_birth': '1995-03-08', 'mrn': '345678'}, {'full_name': 'Wilson Sarah M', 'first_name': 'Wilson', 'last_name': 'Sarah M', 'gender': 'Female', 'phone': '(555)555-1111', 'address': '567 Pine St-Gotham, NY, 10005, USA', 'date_of_birth': '1976-02-28', 'mrn': '456789'}, {'full_name': 'Garcia Miguel J', 'first_name': 'Garcia', 'last_name': 'Miguel J', 'gender': 'Male', 'phone': '(555)555-3333', 'address': '678 Maple St-Star City, CA, 90001, USA', 'date_of_birth': '1982-10-10', 'mrn': '567890'}, {'full_name': 'Fernandez Elena L', 'first_name': 'Fernandez', 'last_name': 'Elena L', 'gender': 'Female', 'phone': '(555)555-5555', 'address': '789 Willow St-Central City, IL, 60601, USA', 'date_of_birth': '1998-02-18', 'mrn': '678901'}, {'full_name': 'Lee Andrew K', 'first_name': 'Lee', 'last_name': 'Andrew K', 'gender': 'Male', 'phone': '(555)555-7777', 'address': '890 Aspen St-Coast City, CA, 90210, USA', 'date_of_birth': '1991-12-05', 'mrn': '789012'}, {'full_name': 'Robinson Sophia N', 'first_name': 'Robinson', 'last_name': 'Sophia N', 'gender': 'Female', 'phone': '(555)555-9999', 'address': '901 Cedar St-Metropolis, NY, 10006, USA', 'date_of_birth': '2000-03-30', 'mrn': '890123'}, {'full_name': 'Johnson Michael D', 'first_name': 'Johnson', 'last_name': 'Michael D', 'gender': 'Male', 'phone': '(555)555-8888', 'address': '789 Pine St-Metropolis, NY, 10003, USA', 'date_of_birth': '1985-01-10', 'mrn': '112233'}, {'full_name': 'Brown Olivia E', 'first_name': 'Brown', 'last_name': 'Olivia E', 'gender': 'Female', 'phone': '(555)555-9999', 'address': '321 Cedar St-Gotham, NY, 10004, USA', 'date_of_birth': '1995-10-05', 'mrn': '334455'}, {'full_name': 'Rodriguez Isabella L', 'first_name': 'Rodriguez', 'last_name': 'Isabella L', 'gender': 'Female', 'phone': '(555)555-7777', 'address': '678 Birch St-National City, TX, 75001, USA', 'date_of_birth': '1996-10-25', 'mrn': None}, {'full_name': 'White Emily F', 'first_name': 'White', 'last_name': 'Emily F', 'gender': 'Female', 'phone': '(555)555-1111', 'address': '654 Spruce St-Star City, CA, 90001, USA', 'date_of_birth': '2000-05-15', 'mrn': '556677'}, {'full_name': 'Wilson James G', 'first_name': 'Wilson', 'last_name': 'James G', 'gender': 'Male', 'phone': '(555)555-2222', 'address': '987 Birch St-Star City, CA, 90002, USA', 'date_of_birth': '1978-07-08', 'mrn': '778899'}, {'full_name': 'Garcia Sophia H', 'first_name': 'Garcia', 'last_name': 'Sophia H', 'gender': 'Female', 'phone': '(555)555-3333', 'address': '234 Willow St-Central City, IL, 60601, USA', 'date_of_birth': '1999-02-14', 'mrn': '990011'}, {'full_name': 'Lee Chloe J', 'first_name': 'Lee', 'last_name': 'Chloe J', 'gender': 'Female', 'phone': '(555)555-5555', 'address': '890 Maple St-Keystone City, PA, 15001, USA', 'date_of_birth': '2001-03-23', 'mrn': '223344'}, {'full_name': 'Rodriguez Isabella L', 'first_name': 'Rodriguez', 'last_name': 'Isabella L', 'gender': 'Female', 'phone': '(555)555-7777', 'address': '678 Birch St-National City, TX, 75001, USA', 'date_of_birth': '1996-10-25', 'mrn': '445566'}, {'full_name': 'Thompson Mia N', 'first_name': 'Thompson', 'last_name': 'Mia N', 'gender': 'Female', 'phone': '(555)555-9999', 'address': '456 Cedar St-Metropolis, NY, 10006, USA', 'date_of_birth': '2002-02-14', 'mrn': '667788'}, {'full_name': 'Wilson James G', 'first_name': 'Wilson', 'last_name': 'James G', 'gender': 'Male', 'phone': '(555)555-2222', 'address': '987 Birch St-Star City, CA, 90002, USA', 'date_of_birth': '1978-07-08', 'mrn': '778899'}, {'full_name': 'Martinez Daniel I', 'first_name': 'Martinez', 'last_name': 'Daniel I', 'gender': 'Male', 'phone': '(555)555-4444', 'address': '567 Aspen St-Coast City, CA, 90210, USA', 'date_of_birth': '1973-05-18', 'mrn': '001122'}, {'full_name': 'Lee Chloe J', 'first_name': 'Lee', 'last_name': 'Chloe J', 'gender': 'Female', 'phone': '(555)555-5555', 'address': '890 Maple St-Keystone City, PA, 15001, USA', 'date_of_birth': '2001-03-23', 'mrn': None}, {'full_name': 'Brown Olivia E', 'first_name': 'Brown', 'last_name': 'Olivia E', 'gender': 'Female', 'phone': '(555)555-9999', 'address': '321 Cedar St-Gotham, NY, 10004, USA', 'date_of_birth': '1995-10-05', 'mrn': '334455'}, {'full_name': 'Wilson James G', 'first_name': 'Wilson', 'last_name': 'James G', 'gender': 'Male', 'phone': '(555)555-2222', 'address': '987 Birch St-Star City, CA, 90002, USA', 'date_of_birth': '1978-07-08', 'mrn': '778899'}, {'full_name': 'White Emily F', 'first_name': 'White', 'last_name': 'Emily F', 'gender': 'Female', 'phone': '(555)555-1111', 'address': '654 Spruce St-Star City, CA, 90001, USA', 'date_of_birth': '2000-05-15', 'mrn': '556677'}, {'full_name': 'Garcia Sophia H', 'first_name': 'Garcia', 'last_name': 'Sophia H', 'gender': 'Female', 'phone': '(555)555-3333', 'address': '234 Willow St-Central City, IL, 60601, USA', 'date_of_birth': '1999-02-14', 'mrn': '990011'}, {'full_name': 'Rodriguez Isabella L', 'first_name': 'Rodriguez', 'last_name': 'Isabella L', 'gender': 'Female', 'phone': '(555)555-7777', 'address': '678 Birch St-National City, TX, 75001, USA', 'date_of_birth': '1996-10-25', 'mrn': '445566'}, {'full_name': 'Lee Chloe J', 'first_name': 'Lee', 'last_name': 'Chloe J', 'gender': 'Female', 'phone': '(555)555-5555', 'address': '890 Maple St-Keystone City, PA, 15001, USA', 'date_of_birth': '2001-03-23', 'mrn': '223344'}, {'full_name': 'Thompson Mia N', 'first_name': 'Thompson', 'last_name': 'Mia N', 'gender': 'Female', 'phone': '(555)555-9999', 'address': '456 Cedar St-Metropolis, NY, 10006, USA', 'date_of_birth': '2002-02-14', 'mrn': '667788'}]\n"
     ]
    }
   ],
   "source": [
    "import hl7\n",
    "from datetime import datetime\n",
    "from app.models import ErrorCharges,Patient\n",
    "from asgiref.sync import sync_to_async\n",
    "\n",
    "file_paths = ['app/HL7/charges_0.hl7', 'app/HL7/charges_1.hl7', 'app/HL7/charges_2.hl7', 'app/HL7/charges_3.hl7', 'app/HL7/charges_4.hl7']\n",
    "def parse_hl7(file_path):\n",
    "    with open(file_path, 'br') as file:\n",
    "        data = file.read()\n",
    "    return hl7.parse(data)\n",
    "\n",
    "parsed_messages = [parse_hl7(file_path) for file_path in file_paths]\n",
    "\n",
    "patient_data = []\n",
    "def extract_patient_info(message):\n",
    "    segments = [segment for segment in message]\n",
    "    for segment1 in segments:\n",
    "        patient_info = {}\n",
    "        segment = [segment2 for segment2 in segment1]\n",
    "        if segment[0] == ['\\nPID']:\n",
    "            fullnamelist = str(segment[5][0]).split('^^')\n",
    "            namelist = fullnamelist[0].split('^')\n",
    "            patient_info['full_name'] = fullnamelist[0].replace('^',' ')  if fullnamelist[0].replace('^',' ') != '' else None\n",
    "            patient_info['first_name'] = namelist[0] if namelist[0] != '' else None\n",
    "            patient_info['last_name'] = ' '.join(namelist[1:]) if ' '.join(namelist[1:]) != '' else None\n",
    "            patient_info['gender'] = 'Male' if segment[8][0] == 'M' else 'Female' if segment[8][0] == 'F' else None\n",
    "            patient_info['phone'] = segment[13][0]\n",
    "            patient_info['address'] = str(segment[11][0]).replace('^^','-').replace('^',', ')\n",
    "            patient_info['date_of_birth'] = segment[7][0][0:4]+'-'+segment[7][0][4:6]+'-'+segment[7][0][6:8]  if segment[7][0] != '' else None\n",
    "            patient_info['mrn'] = list(segment[3][0])[0][0] if list(segment[3][0])[0] != [''] else None\n",
    "            patient_data.append(patient_info)\n",
    "    return patient_info\n",
    "\n",
    "\n",
    "\n",
    "for message in parsed_messages:\n",
    "    extract_patient_info(message)\n",
    "    \n",
    "async def store_patient_data_async(patient_data):\n",
    "    for data in patient_data:\n",
    "        error_charges_id = None\n",
    "        if data['full_name'] is None:\n",
    "            error_charges_id = 1\n",
    "        if data['date_of_birth'] is None:\n",
    "            error_charges_id = 2\n",
    "        if data['mrn'] is None:\n",
    "            error_charges_id = 3\n",
    "        if error_charges_id:\n",
    "            data[\"error_charges_id\"] = error_charges_id\n",
    "        await sync_to_async(Patient.objects.create)(**data)\n",
    "\n",
    "await store_patient_data_async(patient_data)"
   ]
  },
  {
   "cell_type": "code",
   "execution_count": null,
   "id": "2fdbe224-e53f-461f-a5a8-c3ed3193610f",
   "metadata": {},
   "outputs": [],
   "source": []
  }
 ],
 "metadata": {
  "kernelspec": {
   "display_name": "Django Shell-Plus",
   "language": "python",
   "name": "django_extensions"
  },
  "language_info": {
   "codemirror_mode": {
    "name": "ipython",
    "version": 3
   },
   "file_extension": ".py",
   "mimetype": "text/x-python",
   "name": "python",
   "nbconvert_exporter": "python",
   "pygments_lexer": "ipython3",
   "version": "3.11.9"
  }
 },
 "nbformat": 4,
 "nbformat_minor": 5
}
